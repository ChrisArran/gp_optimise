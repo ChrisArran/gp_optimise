{
 "cells": [
  {
   "cell_type": "code",
   "execution_count": 1,
   "id": "adb242e5",
   "metadata": {},
   "outputs": [
    {
     "data": {
      "text/plain": [
       "<module 'gp_optimise' from '/home/cda523/Documents/Positrons/gp_optimise/gp_optimise.py'>"
      ]
     },
     "execution_count": 1,
     "metadata": {},
     "output_type": "execute_result"
    }
   ],
   "source": [
    "import numpy as np\n",
    "import matplotlib.pyplot as plt\n",
    "from QEDcascPy_positrons import sim_positrons_angle,sim_rr_angle\n",
    "from sklearn.gaussian_process.kernels import RBF,WhiteKernel\n",
    "import gp_optimise\n",
    "import importlib\n",
    "import time\n",
    "importlib.reload(gp_optimise)"
   ]
  },
  {
   "cell_type": "code",
   "execution_count": 2,
   "id": "385ea7a4",
   "metadata": {},
   "outputs": [],
   "source": [
    "# Sim parameters\n",
    "Npoints = 10\n",
    "Nsims = 100\n",
    "up_scale = 1e3\n",
    "Nsamples = 1e3"
   ]
  },
  {
   "cell_type": "code",
   "execution_count": 3,
   "id": "449477e2",
   "metadata": {},
   "outputs": [],
   "source": [
    "# Expt parameters\n",
    "Etot = 100 # J\n",
    "gamma0 = 10e9/0.511e6\n",
    "gamma_spread = 0.1 * gamma0\n",
    "\n",
    "# Best compression\n",
    "duration0 = 25 # fs\n",
    "waist0 = 2*1.22*0.8 # microns\n",
    "\n",
    "# Random jitter\n",
    "t_std = 25e-15\n",
    "r_std = 10e-6\n",
    "\n",
    "# Electron energy scaling\n",
    "gscale = 0.7"
   ]
  },
  {
   "cell_type": "code",
   "execution_count": 4,
   "id": "0e4006d9",
   "metadata": {},
   "outputs": [],
   "source": [
    "# Set up the variables etc\n",
    "I0 = Etot/((duration0*1e-15)*(waist0*1e-6)**2) * (4*np.log(2)/np.pi)**1.5\n",
    "a0 = np.sqrt(I0/2.1378e22)"
   ]
  },
  {
   "cell_type": "code",
   "execution_count": 5,
   "id": "595c6625",
   "metadata": {},
   "outputs": [],
   "source": [
    "# Define the MC functions to return positron number and rr rate\n",
    "# Keep the offsets outside the function so I can use the same consistent offsets throughout\n",
    "\n",
    "#dims = [{'name':'duration','type':'log-uniform','min':5,'max':100}]\n",
    "dims = [{'name':'Esplit','type':'uniform','min':0,'max':1}]\n",
    "\n",
    "z_offset = np.random.default_rng().normal(0, 0.5*t_std*3e8, Nsims)\n",
    "x_offset = np.random.default_rng().normal(0, r_std, Nsims)\n",
    "y_offset = np.random.default_rng().normal(0, r_std, Nsims)    \n",
    "    \n",
    "def estimate_positrons(params): # params = [Energy split]\n",
    "    t0 = time.time()\n",
    "    positron = np.zeros((Nsims))\n",
    "    for i in range(Nsims):\n",
    "        positron[i] = sim_positrons_angle(a0*np.sqrt(params[0]), gamma0*(1-params[0])**gscale, gamma_spread,angle=15, \n",
    "                            z_offset=z_offset[i], x_offset=x_offset[i], y_offset=y_offset[i],l0=0.0,\n",
    "                            duration_fwhm = duration0*1e-15, waist_fwhm = waist0*1e-6,\n",
    "                            Nsamples=Nsamples, up_scale=up_scale, model=\"Quantum\")\n",
    "\n",
    "    mu = np.mean(positron)\n",
    "    sigma = np.std(positron)\n",
    "    if mu<=0:\n",
    "        mu = 1.0/(Nsamples*up_scale)**2\n",
    "        sigma = 1.0/(Nsamples*up_scale)**1.5\n",
    "        \n",
    "    exponent = np.floor(np.log10(mu))\n",
    "    t1 = time.time()\n",
    "    print(\"Finished %0i sims in %0.2e s at %s=%0.2f, giving (%0.2f+-%0.2f)x10^%0i positrons per electron\" \n",
    "          % (Nsims,t1-t0,dims[0]['name'],params[0],mu/10**exponent,sigma/np.sqrt(Nsims)/10**exponent,exponent))\n",
    "        \n",
    "    return np.log(mu**2/np.sqrt(mu**2+sigma**2)),np.sqrt(np.log(1+sigma**2/mu**2)/Nsims)\n",
    "    \n",
    "def estimate_rr(params): # params = [Energy split]\n",
    "\n",
    "    rr = np.zeros(Nsims)\n",
    "    for i in range(Nsims):\n",
    "        rr[i] = sim_rr_angle(a0*np.sqrt(params[0]), gamma0*(1-params[0])**gscale, gamma_spread,angle=15, \n",
    "                            z_offset=z_offset[i], x_offset=x_offset[i], y_offset=y_offset[i],\n",
    "                            duration_fwhm = duration0*1e-15, waist_fwhm = waist0*1e-6,\n",
    "                            Nsamples=Nsamples, up_scale=up_scale, model=\"Quantum\")\n",
    "\n",
    "    return np.mean(rr),np.std(rr)\n"
   ]
  },
  {
   "cell_type": "code",
   "execution_count": 6,
   "id": "73db03a6",
   "metadata": {},
   "outputs": [],
   "source": [
    "params = [0.5]\n",
    "\n",
    "positron = np.zeros((Nsims))\n",
    "for i in range(Nsims):\n",
    "    positron[i] = sim_positrons_angle(a0*np.sqrt(params[0]), gamma0*(1-params[0])**gscale, gamma_spread,angle=15, \n",
    "                            z_offset=z_offset[i], x_offset=x_offset[i], y_offset=y_offset[i],l0=0.0,\n",
    "                            duration_fwhm = duration0*1e-15, waist_fwhm = waist0*1e-6,\n",
    "                            Nsamples=Nsamples, up_scale=up_scale, model=\"Quantum\")\n"
   ]
  },
  {
   "cell_type": "code",
   "execution_count": 11,
   "id": "06b17f7f",
   "metadata": {},
   "outputs": [
    {
     "data": {
      "text/plain": [
       "Text(0, 0.5, 'Count')"
      ]
     },
     "execution_count": 11,
     "metadata": {},
     "output_type": "execute_result"
    },
    {
     "data": {
      "image/png": "[encoded data removed]",
      "text/plain": [
       "<Figure size 432x288 with 1 Axes>"
      ]
     },
     "metadata": {
      "needs_background": "light"
     },
     "output_type": "display_data"
    }
   ],
   "source": [
    "positron[positron==0] = 0.1*(Nsamples*up_scale)**-1\n",
    "posmean = np.log(mu**2/np.sqrt(mu**2+sigma**2))\n",
    "posstd = np.sqrt(np.log(1+sigma**2/mu**2))\n",
    "\n",
    "npos,bins,patches = plt.hist(np.log(positron))\n",
    "ngauss = Nsims/np.sqrt(2*np.pi*posstd**2)*np.exp(-0.5*((bins-posmean)/posstd)**2)\n",
    "plt.plot(bins,ngauss)\n",
    "plt.xlabel('log$_{10}(N_+/N_\\gamma)$')\n",
    "plt.ylabel('Count')"
   ]
  },
  {
   "cell_type": "code",
   "execution_count": 6,
   "id": "48922d1d",
   "metadata": {},
   "outputs": [],
   "source": [
    "kernel = 1*RBF(length_scale_bounds=(1e-1, 1e1))# + WhiteKernel(noise_level_bounds=(1e-2, 1e0))\n",
    "gpo = gp_optimise.Gp_optimise(estimate_positrons,dims,kernel)"
   ]
  },
  {
   "cell_type": "code",
   "execution_count": 7,
   "id": "63cc91ee",
   "metadata": {},
   "outputs": [
    {
     "name": "stdout",
     "output_type": "stream",
     "text": [
      "Finished 100 sims in 8.61e+02 s at Esplit=0.41, giving (1.27+-0.74)x10^-2 positrons per electron\n",
      "Finished 100 sims in 5.56e+02 s at Esplit=0.25, giving (8.72+-5.09)x10^-3 positrons per electron\n",
      "Finished 100 sims in 8.84e+02 s at Esplit=0.68, giving (1.16+-0.68)x10^-2 positrons per electron\n",
      "Finished 100 sims in 5.83e+02 s at Esplit=0.82, giving (6.71+-3.92)x10^-3 positrons per electron\n",
      "Finished 100 sims in 7.75e+02 s at Esplit=0.36, giving (1.18+-0.68)x10^-2 positrons per electron\n"
     ]
    },
    {
     "name": "stderr",
     "output_type": "stream",
     "text": [
      "/home/cda523/.local/lib/python3.6/site-packages/sklearn/gaussian_process/kernels.py:409: ConvergenceWarning: The optimal value found for dimension 0 of parameter k2__length_scale is close to the specified lower bound 0.1. Decreasing the bound and calling fit again may find a better value.\n",
      "  ConvergenceWarning)\n"
     ]
    }
   ],
   "source": [
    "gpo.initialise(Ninitial=5)"
   ]
  },
  {
   "cell_type": "code",
   "execution_count": 8,
   "id": "9a5af3fd",
   "metadata": {},
   "outputs": [
    {
     "data": {
      "text/plain": [
       "1.13**2 * RBF(length_scale=0.1)"
      ]
     },
     "execution_count": 8,
     "metadata": {},
     "output_type": "execute_result"
    },
    {
     "data": {
      "image/png": "[encoded data removed]",
      "text/plain": [
       "<Figure size 432x288 with 1 Axes>"
      ]
     },
     "metadata": {
      "needs_background": "light"
     },
     "output_type": "display_data"
    }
   ],
   "source": [
    "X_test = np.linspace(start=dims[0]['min'], stop=dims[0]['max'], num=1000).reshape(-1, 1)\n",
    "y_test,std_test = gpo.gaussian_process.predict(X_test, return_std=True)\n",
    "plt.scatter(gpo.X,gpo.y)\n",
    "plt.plot(X_test,y_test)\n",
    "plt.fill_between(X_test.ravel(),y_test-2*std_test,y_test+2*std_test,alpha=0.5)\n",
    "#plt.xscale('log')\n",
    "plt.xlabel(dims[0]['name'])\n",
    "plt.ylabel('log$(N_+/N_-)$')\n",
    "gpo.gaussian_process.kernel_"
   ]
  },
  {
   "cell_type": "code",
   "execution_count": 32,
   "id": "41f10db8",
   "metadata": {},
   "outputs": [
    {
     "data": {
      "image/png": "[encoded data removed]",
      "text/plain": [
       "<Figure size 432x288 with 2 Axes>"
      ]
     },
     "metadata": {
      "needs_background": "light"
     },
     "output_type": "display_data"
    }
   ],
   "source": [
    "acq_test1 = gpo.acquisition_function(X_test,explore=1,acq_fn='UCB')\n",
    "acq_test2 = gpo.acquisition_function(X_test,explore=0.01,acq_fn='EI')\n",
    "\n",
    "nxt1 = gpo.next_acquisition(Nacq=100,explore=1,acq_fn='UCB')\n",
    "nxt2 = gpo.next_acquisition(Nacq=100,explore=0.01,acq_fn='EI')\n",
    "\n",
    "plt.subplot(2,1,1)\n",
    "plt.plot(X_test,acq_test1)\n",
    "plt.plot(nxt1,gpo.acquisition_function(nxt1,explore=1,acq_fn='UCB'),'+')\n",
    "plt.xscale('log')\n",
    "plt.ylabel('UCB')\n",
    "plt.subplot(2,1,2)\n",
    "plt.plot(X_test,acq_test2)\n",
    "plt.plot(nxt2,gpo.acquisition_function(nxt2,explore=0.01,acq_fn='EI'),'+')\n",
    "plt.xscale('log')\n",
    "plt.ylabel('EI')\n",
    "plt.tight_layout()"
   ]
  },
  {
   "cell_type": "code",
   "execution_count": 35,
   "id": "080bb7a8",
   "metadata": {},
   "outputs": [
    {
     "name": "stdout",
     "output_type": "stream",
     "text": [
      "Finished 100 sims in 9.83e+02 s at Esplit=0.56, giving (1.37+-0.80)x10^-2 positrons per electron\n"
     ]
    }
   ],
   "source": [
    "N_new = 1\n",
    "gpo.optimise(N_new,Nacq=100,explore=0.01,acq_fn='EI')"
   ]
  },
  {
   "cell_type": "code",
   "execution_count": 45,
   "id": "152e5910",
   "metadata": {},
   "outputs": [
    {
     "data": {
      "text/plain": [
       "array([[0.51692684]])"
      ]
     },
     "execution_count": 45,
     "metadata": {},
     "output_type": "execute_result"
    },
    {
     "data": {
      "image/png": "[encoded data removed]",
      "text/plain": [
       "<Figure size 432x288 with 1 Axes>"
      ]
     },
     "metadata": {
      "needs_background": "light"
     },
     "output_type": "display_data"
    }
   ],
   "source": [
    "plt.scatter(gpo.X,gpo.y)\n",
    "y_test,std_test = gpo.gaussian_process.predict(X_test, return_std=True)\n",
    "plt.plot(X_test,y_test)\n",
    "plt.fill_between(X_test.ravel(),y_test-2*std_test,y_test+2*std_test,alpha=0.5)\n",
    "plt.scatter(gpo.X[-N_new:,0],gpo.y[-N_new:])\n",
    "#plt.xscale('log')\n",
    "plt.xlabel(dims[0]['name'])\n",
    "plt.ylabel('log$_{10}(N_+/N_-)$')\n",
    "plt.ylim([-8,-6])\n",
    "\n",
    "acq_test2 = gpo.acquisition_function(X_test,explore=0.01,acq_fn='EI')\n",
    "gpo.next_acquisition(Nacq=10,explore=0.01,acq_fn='EI')"
   ]
  },
  {
   "cell_type": "code",
   "execution_count": 41,
   "id": "432def77",
   "metadata": {},
   "outputs": [],
   "source": [
    "np.savetxt('Esplit_example%i.txt'%(len(gpo.y)),np.transpose(np.vstack((gpo.X[:,0],gpo.y,gpo.yerr))),header='Esplit\\tlog(N+/N-)\\terror')\n",
    "np.savetxt('Esplit_model%i.txt'%(len(gpo.y)),np.transpose(np.vstack((X_test[:,0],y_test,std_test))),header='Esplit\\tlog(N+/N-)\\terror')\n",
    "np.savetxt('Esplit_acq%i.txt'%(len(gpo.y)),np.transpose(np.vstack((X_test[:,0],acq_test2))),header='Esplit\\tEI')"
   ]
  },
  {
   "cell_type": "code",
   "execution_count": 42,
   "id": "f26cf5c9",
   "metadata": {},
   "outputs": [
    {
     "name": "stdout",
     "output_type": "stream",
     "text": [
      "Finished 100 sims in 9.55e+02 s at Esplit=0.52, giving (1.37+-0.80)x10^-2 positrons per electron\n",
      "Finished 100 sims in 9.61e+02 s at Esplit=0.52, giving (1.38+-0.80)x10^-2 positrons per electron\n",
      "Finished 100 sims in 9.55e+02 s at Esplit=0.52, giving (1.36+-0.79)x10^-2 positrons per electron\n",
      "Finished 100 sims in 9.40e+02 s at Esplit=0.52, giving (1.34+-0.78)x10^-2 positrons per electron\n",
      "Finished 100 sims in 9.57e+02 s at Esplit=0.52, giving (1.36+-0.79)x10^-2 positrons per electron\n",
      "Finished 100 sims in 9.41e+02 s at Esplit=0.52, giving (1.33+-0.77)x10^-2 positrons per electron\n",
      "Finished 100 sims in 9.40e+02 s at Esplit=0.52, giving (1.34+-0.79)x10^-2 positrons per electron\n",
      "Finished 100 sims in 9.40e+02 s at Esplit=0.52, giving (1.34+-0.78)x10^-2 positrons per electron\n",
      "Finished 100 sims in 9.56e+02 s at Esplit=0.52, giving (1.37+-0.80)x10^-2 positrons per electron\n",
      "Finished 100 sims in 9.67e+02 s at Esplit=0.52, giving (1.38+-0.80)x10^-2 positrons per electron\n",
      "Finished 100 sims in 9.48e+02 s at Esplit=0.52, giving (1.35+-0.79)x10^-2 positrons per electron\n",
      "Finished 100 sims in 9.51e+02 s at Esplit=0.52, giving (1.35+-0.79)x10^-2 positrons per electron\n",
      "Finished 100 sims in 9.61e+02 s at Esplit=0.52, giving (1.37+-0.80)x10^-2 positrons per electron\n",
      "Finished 100 sims in 9.42e+02 s at Esplit=0.52, giving (1.36+-0.79)x10^-2 positrons per electron\n"
     ]
    }
   ],
   "source": [
    "for i in range(14):\n",
    "    gpo.optimise(N_new,Nacq=100,explore=0.01,acq_fn='EI')\n",
    "    acq_test2 = gpo.acquisition_function(X_test,explore=0.01,acq_fn='EI')\n",
    "    np.savetxt('Esplit_example%i.txt'%(len(gpo.y)),np.transpose(np.vstack((gpo.X[:,0],gpo.y,gpo.yerr))),header='Esplit\\tlog(N+/N-)\\terror')\n",
    "    np.savetxt('Esplit_model%i.txt'%(len(gpo.y)),np.transpose(np.vstack((X_test[:,0],y_test,std_test))),header='Esplit\\tlog(N+/N-)\\terror')\n",
    "    np.savetxt('Esplit_acq%i.txt'%(len(gpo.y)),np.transpose(np.vstack((X_test[:,0],acq_test2))),header='Esplit\\tEI')"
   ]
  },
  {
   "cell_type": "code",
   "execution_count": null,
   "id": "9f2d06ea",
   "metadata": {},
   "outputs": [],
   "source": []
  }
 ],
 "metadata": {
  "kernelspec": {
   "display_name": "Python 3 (ipykernel)",
   "language": "python",
   "name": "python3"
  },
  "language_info": {
   "codemirror_mode": {
    "name": "ipython",
    "version": 3
   },
   "file_extension": ".py",
   "mimetype": "text/x-python",
   "name": "python",
   "nbconvert_exporter": "python",
   "pygments_lexer": "ipython3",
   "version": "3.6.9"
  }
 },
 "nbformat": 4,
 "nbformat_minor": 5
}
