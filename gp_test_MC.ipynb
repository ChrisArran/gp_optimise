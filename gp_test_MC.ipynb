{
 "cells": [
  {
   "cell_type": "code",
   "execution_count": 1,
   "id": "adb242e5",
   "metadata": {},
   "outputs": [
    {
     "data": {
      "text/plain": [
       "<module 'gp_optimise' from '/home/cda523/Documents/Positrons/gp_optimise/gp_optimise.py'>"
      ]
     },
     "execution_count": 1,
     "metadata": {},
     "output_type": "execute_result"
    }
   ],
   "source": [
    "import numpy as np\n",
    "import matplotlib.pyplot as plt\n",
    "from QEDcascPy_positrons import sim_positrons_angle,sim_rr_angle\n",
    "from sklearn.gaussian_process.kernels import RBF,WhiteKernel\n",
    "import gp_optimise\n",
    "import importlib\n",
    "import time\n",
    "importlib.reload(gp_optimise)"
   ]
  },
  {
   "cell_type": "code",
   "execution_count": 2,
   "id": "385ea7a4",
   "metadata": {},
   "outputs": [],
   "source": [
    "# Sim parameters\n",
    "Npoints = 10\n",
    "Nsims = 100\n",
    "up_scale = 1e3\n",
    "Nsamples = 1e3"
   ]
  },
  {
   "cell_type": "code",
   "execution_count": 3,
   "id": "449477e2",
   "metadata": {},
   "outputs": [],
   "source": [
    "# Expt parameters\n",
    "Etot = 100 # J\n",
    "gamma0 = 10e9/0.511e6 # for 10 J\n",
    "gamma_spread = 0.1\n",
    "\n",
    "# Best compression\n",
    "duration0 = 25 # fs\n",
    "waist0 = 2*1.22*0.8 # microns\n",
    "\n",
    "# Random jitter\n",
    "t_std = 25e-15\n",
    "r_std = 10e-6\n",
    "\n",
    "# Electron energy scaling\n",
    "gscale = 1"
   ]
  },
  {
   "cell_type": "code",
   "execution_count": 4,
   "id": "0e4006d9",
   "metadata": {},
   "outputs": [],
   "source": [
    "# Set up the variables etc\n",
    "I0 = Etot/((duration0*1e-15)*(waist0*1e-6)**2) * (4*np.log(2)/np.pi)**1.5\n",
    "a0 = np.sqrt(I0/2.1378e22)\n",
    "\n",
    "z_offset = np.random.default_rng().normal(0, 0.5*t_std*3e8, Nsims)\n",
    "x_offset = np.random.default_rng().normal(0, r_std, Nsims)\n",
    "y_offset = np.random.default_rng().normal(0, r_std, Nsims) "
   ]
  },
  {
   "cell_type": "code",
   "execution_count": 5,
   "id": "595c6625",
   "metadata": {},
   "outputs": [],
   "source": [
    "# Define the MC functions to return positron number and rr rate\n",
    "# Keep the offsets outside the function so I can use the same consistent offsets throughout\n",
    "\n",
    "#dims = [{'name':'duration','type':'log-uniform','min':5,'max':100}]\n",
    "#dims = [{'name':'Esplit','type':'uniform','min':0,'max':1}]\n",
    "dims = [{'name':'l0','type':'log-uniform','min':0.001,'max':1}]   \n",
    "    \n",
    "def estimate_positrons(params): # params = [Energy split]\n",
    "    t0 = time.time()\n",
    "    positron = np.zeros((Nsims))\n",
    "    for i in range(Nsims):\n",
    "        #gamma = gamma0*((1-params[0])*Etot/100)**gscale\n",
    "        #positron[i] = sim_positrons_angle(a0*np.sqrt(params[0]), gamma, gamma_spread*gamma, angle=15, \n",
    "                            #z_offset=z_offset[i], x_offset=x_offset[i], y_offset=y_offset[i],l0=0.0,\n",
    "        gamma = gamma0*((1-0.25)*Etot/100)**gscale\n",
    "        positron[i] = sim_positrons_angle(a0*np.sqrt(0.25), gamma, gamma_spread*gamma, angle=15, \n",
    "                            z_offset=z_offset[i], x_offset=x_offset[i], y_offset=y_offset[i],l0=params[0],\n",
    "                            duration_fwhm = duration0*1e-15, waist_fwhm = waist0*1e-6,\n",
    "                            Nsamples=Nsamples, up_scale=up_scale, model=\"Quantum\")\n",
    "\n",
    "    mu = np.mean(positron)\n",
    "    sigma = np.std(positron)\n",
    "    if mu<=0:\n",
    "        mu = 1.0/(Nsamples*up_scale)**2\n",
    "        sigma = 1.0/(Nsamples*up_scale)**1.5\n",
    "        \n",
    "    exponent = np.floor(np.log10(mu))\n",
    "    t1 = time.time()\n",
    "    print(\"Finished %0i sims in %0.2e s at %s=%0.3f, giving (%0.2f+-%0.2f)x10^%0i positrons per electron\" \n",
    "          % (Nsims,t1-t0,dims[0]['name'],params[0],mu/10**exponent,sigma/np.sqrt(Nsims)/10**exponent,exponent))\n",
    "    logmu = np.log(mu**2/np.sqrt(mu**2+sigma**2))\n",
    "    logsigma = np.sqrt(np.log(1+sigma**2/mu**2)/Nsims)\n",
    "\n",
    "    return logmu,logsigma\n",
    "    \n",
    "def estimate_rr(params): # params = [Energy split]\n",
    "\n",
    "    rr = np.zeros(Nsims)\n",
    "    for i in range(Nsims):\n",
    "        gamma = gamma0*((1-params[0])*Etot/10)**gscale\n",
    "        rr[i] = sim_rr_angle(a0*np.sqrt(params[0]), gamma, gamma_spread*gamma, angle=15, \n",
    "                            z_offset=z_offset[i], x_offset=x_offset[i], y_offset=y_offset[i],\n",
    "                            duration_fwhm = duration0*1e-15, waist_fwhm = waist0*1e-6,\n",
    "                            Nsamples=Nsamples, up_scale=up_scale, model=\"Quantum\")\n",
    "\n",
    "    return np.mean(rr),np.std(rr)\n"
   ]
  },
  {
   "cell_type": "markdown",
   "id": "fe49efab",
   "metadata": {},
   "source": [
    "params = [0.25]\n",
    "\n",
    "positron = np.zeros((Nsims))\n",
    "t0 = time.time()\n",
    "for i in range(Nsims):\n",
    "    positron[i] = sim_positrons_angle(a0*np.sqrt(params[0]), gamma0*(1-params[0])**gscale, gamma_spread,angle=15, \n",
    "                            z_offset=z_offset[i], x_offset=x_offset[i], y_offset=y_offset[i],l0=0.1,\n",
    "                            duration_fwhm = duration0*1e-15, waist_fwhm = waist0*1e-6,\n",
    "                            Nsamples=Nsamples, up_scale=up_scale, model=\"Quantum\")\n",
    "    t1 = time.time()\n",
    "    exponent = np.floor(np.log10(positron[i]))\n",
    "    if positron[i]==0:\n",
    "        exponent=0\n",
    "    print(\"Finished %0i sims in %0.2e s at %s=%0.2f, giving %0.2fx10^%0i positrons per electron\"\n",
    "          % (i+1,t1-t0,dims[0]['name'],params[0],positron[i]/10**exponent,exponent))\n"
   ]
  },
  {
   "cell_type": "markdown",
   "id": "8d000714",
   "metadata": {},
   "source": [
    "positron0 = sim_positrons_angle(a0*np.sqrt(params[0]), gamma0*(1-params[0])**gscale, gamma_spread,angle=15, \n",
    "                            z_offset=0, x_offset=0, y_offset=0,l0=0.1,\n",
    "                            duration_fwhm = duration0*1e-15, waist_fwhm = waist0*1e-6,\n",
    "                            Nsamples=Nsamples, up_scale=up_scale, model=\"Quantum\")"
   ]
  },
  {
   "cell_type": "markdown",
   "id": "c899d069",
   "metadata": {},
   "source": [
    "print(positron0)\n",
    "print(np.mean(positron))\n",
    "print(np.std(positron))"
   ]
  },
  {
   "cell_type": "markdown",
   "id": "d4686e6d",
   "metadata": {},
   "source": [
    "#positron[positron==0] = 0.1*(Nsamples*up_scale)**-1\n",
    "mu = np.mean(positron)\n",
    "sigma = np.std(positron)\n",
    "posmean = np.log(mu**2/np.sqrt(mu**2+sigma**2))\n",
    "posstd = np.sqrt(np.log(1+sigma**2/mu**2))\n",
    "print('logmean =',posmean)\n",
    "print('logstd =',posstd)\n",
    "\n",
    "#npos,bins,patches = plt.hist(np.log(positron))\n",
    "ngrid = np.logspace(-7,-1,num=25)\n",
    "ngauss = Nsims/np.sqrt(2*np.pi*posstd**2)*np.exp(-0.5*((np.log(ngrid)-posmean)/posstd)**2)\n",
    "\n",
    "plt.rcParams.update({'font.size': 14})\n",
    "\n",
    "plt.subplot(4,3,4)\n",
    "p1 = plt.hist(x_offset*1e6)\n",
    "plt.xlabel('$\\Delta x$ ($\\mu$m)')\n",
    "plt.ylabel('Count')\n",
    "\n",
    "plt.subplot(4,3,5)\n",
    "p2 = plt.hist(y_offset*1e6)\n",
    "plt.xlabel('$\\Delta y$ ($\\mu$m)')\n",
    "\n",
    "plt.subplot(4,3,6)\n",
    "plt.hist(2*z_offset/3e8*1e15)\n",
    "plt.xlabel('$\\Delta t$ (fs)')\n",
    "\n",
    "plt.subplot(2,1,2)\n",
    "plt.hist(positron,bins=np.logspace(-7,-1,num=13),color='maroon')\n",
    "plt.plot(ngrid,ngauss)\n",
    "\n",
    "plt.xscale('log')\n",
    "plt.xlabel('$N_+/N_-$')\n",
    "plt.ylabel('Count')\n",
    "\n",
    "fig = plt.gcf()\n",
    "fig.set_figheight(6)\n",
    "fig.set_figwidth(4)\n",
    "plt.tight_layout()"
   ]
  },
  {
   "cell_type": "code",
   "execution_count": 6,
   "id": "48922d1d",
   "metadata": {},
   "outputs": [],
   "source": [
    "kernel = 1*RBF(length_scale_bounds=(1e-1, 1e1))# + WhiteKernel(noise_level_bounds=(1e-2, 1e0))\n",
    "gpo = gp_optimise.Gp_optimise(estimate_positrons,dims,kernel)"
   ]
  },
  {
   "cell_type": "code",
   "execution_count": 7,
   "id": "63cc91ee",
   "metadata": {},
   "outputs": [
    {
     "ename": "KeyboardInterrupt",
     "evalue": "",
     "output_type": "error",
     "traceback": [
      "\u001b[0;31m---------------------------------------------------------------------------\u001b[0m",
      "\u001b[0;31mKeyboardInterrupt\u001b[0m                         Traceback (most recent call last)",
      "\u001b[0;32m<ipython-input-7-3a69d8447cb8>\u001b[0m in \u001b[0;36m<module>\u001b[0;34m\u001b[0m\n\u001b[0;32m----> 1\u001b[0;31m \u001b[0mgpo\u001b[0m\u001b[0;34m.\u001b[0m\u001b[0minitialise\u001b[0m\u001b[0;34m(\u001b[0m\u001b[0mNinitial\u001b[0m\u001b[0;34m=\u001b[0m\u001b[0;36m3\u001b[0m\u001b[0;34m)\u001b[0m\u001b[0;34m\u001b[0m\u001b[0;34m\u001b[0m\u001b[0m\n\u001b[0m",
      "\u001b[0;32m~/Documents/Positrons/gp_optimise/gp_optimise.py\u001b[0m in \u001b[0;36minitialise\u001b[0;34m(self, Ninitial, n_restarts)\u001b[0m\n\u001b[1;32m     93\u001b[0m                 \u001b[0mself\u001b[0m\u001b[0;34m.\u001b[0m\u001b[0myerr\u001b[0m \u001b[0;34m=\u001b[0m \u001b[0mnp\u001b[0m\u001b[0;34m.\u001b[0m\u001b[0mzeros\u001b[0m\u001b[0;34m(\u001b[0m\u001b[0;34m(\u001b[0m\u001b[0mNinitial\u001b[0m\u001b[0;34m)\u001b[0m\u001b[0;34m)\u001b[0m\u001b[0;34m\u001b[0m\u001b[0;34m\u001b[0m\u001b[0m\n\u001b[1;32m     94\u001b[0m \u001b[0;34m\u001b[0m\u001b[0m\n\u001b[0;32m---> 95\u001b[0;31m                 \u001b[0;32mfor\u001b[0m \u001b[0mn\u001b[0m \u001b[0;32min\u001b[0m \u001b[0mrange\u001b[0m\u001b[0;34m(\u001b[0m\u001b[0mNinitial\u001b[0m\u001b[0;34m)\u001b[0m\u001b[0;34m:\u001b[0m\u001b[0;34m\u001b[0m\u001b[0;34m\u001b[0m\u001b[0m\n\u001b[0m\u001b[1;32m     96\u001b[0m                         \u001b[0mself\u001b[0m\u001b[0;34m.\u001b[0m\u001b[0my\u001b[0m\u001b[0;34m[\u001b[0m\u001b[0mn\u001b[0m\u001b[0;34m]\u001b[0m\u001b[0;34m,\u001b[0m\u001b[0mself\u001b[0m\u001b[0;34m.\u001b[0m\u001b[0myerr\u001b[0m\u001b[0;34m[\u001b[0m\u001b[0mn\u001b[0m\u001b[0;34m]\u001b[0m \u001b[0;34m=\u001b[0m \u001b[0mself\u001b[0m\u001b[0;34m.\u001b[0m\u001b[0mfun\u001b[0m\u001b[0;34m(\u001b[0m\u001b[0mself\u001b[0m\u001b[0;34m.\u001b[0m\u001b[0mX\u001b[0m\u001b[0;34m[\u001b[0m\u001b[0mn\u001b[0m\u001b[0;34m,\u001b[0m\u001b[0;34m:\u001b[0m\u001b[0;34m]\u001b[0m\u001b[0;34m)\u001b[0m\u001b[0;34m\u001b[0m\u001b[0;34m\u001b[0m\u001b[0m\n\u001b[1;32m     97\u001b[0m \u001b[0;34m\u001b[0m\u001b[0m\n",
      "\u001b[0;32m<ipython-input-5-b6c573163805>\u001b[0m in \u001b[0;36mestimate_positrons\u001b[0;34m(params)\u001b[0m\n\u001b[1;32m     17\u001b[0m                             \u001b[0mz_offset\u001b[0m\u001b[0;34m=\u001b[0m\u001b[0mz_offset\u001b[0m\u001b[0;34m[\u001b[0m\u001b[0mi\u001b[0m\u001b[0;34m]\u001b[0m\u001b[0;34m,\u001b[0m \u001b[0mx_offset\u001b[0m\u001b[0;34m=\u001b[0m\u001b[0mx_offset\u001b[0m\u001b[0;34m[\u001b[0m\u001b[0mi\u001b[0m\u001b[0;34m]\u001b[0m\u001b[0;34m,\u001b[0m \u001b[0my_offset\u001b[0m\u001b[0;34m=\u001b[0m\u001b[0my_offset\u001b[0m\u001b[0;34m[\u001b[0m\u001b[0mi\u001b[0m\u001b[0;34m]\u001b[0m\u001b[0;34m,\u001b[0m\u001b[0ml0\u001b[0m\u001b[0;34m=\u001b[0m\u001b[0mparams\u001b[0m\u001b[0;34m[\u001b[0m\u001b[0;36m0\u001b[0m\u001b[0;34m]\u001b[0m\u001b[0;34m,\u001b[0m\u001b[0;34m\u001b[0m\u001b[0;34m\u001b[0m\u001b[0m\n\u001b[1;32m     18\u001b[0m                             \u001b[0mduration_fwhm\u001b[0m \u001b[0;34m=\u001b[0m \u001b[0mduration0\u001b[0m\u001b[0;34m*\u001b[0m\u001b[0;36m1e-15\u001b[0m\u001b[0;34m,\u001b[0m \u001b[0mwaist_fwhm\u001b[0m \u001b[0;34m=\u001b[0m \u001b[0mwaist0\u001b[0m\u001b[0;34m*\u001b[0m\u001b[0;36m1e-6\u001b[0m\u001b[0;34m,\u001b[0m\u001b[0;34m\u001b[0m\u001b[0;34m\u001b[0m\u001b[0m\n\u001b[0;32m---> 19\u001b[0;31m                             Nsamples=Nsamples, up_scale=up_scale, model=\"Quantum\")\n\u001b[0m\u001b[1;32m     20\u001b[0m \u001b[0;34m\u001b[0m\u001b[0m\n\u001b[1;32m     21\u001b[0m     \u001b[0mmu\u001b[0m \u001b[0;34m=\u001b[0m \u001b[0mnp\u001b[0m\u001b[0;34m.\u001b[0m\u001b[0mmean\u001b[0m\u001b[0;34m(\u001b[0m\u001b[0mpositron\u001b[0m\u001b[0;34m)\u001b[0m\u001b[0;34m\u001b[0m\u001b[0;34m\u001b[0m\u001b[0m\n",
      "\u001b[0;32m~/Documents/Positrons/gp_optimise/QEDcascPy_positrons.py\u001b[0m in \u001b[0;36msim_positrons_angle\u001b[0;34m(a0, gamma, gamma_spread, z_offset, x_offset, y_offset, l0, angle, duration_fwhm, waist_fwhm, Nsamples, up_scale, photon_fraction, model, e_folder, g_folder, p_folder)\u001b[0m\n\u001b[1;32m    331\u001b[0m \u001b[0;34m\u001b[0m\u001b[0m\n\u001b[1;32m    332\u001b[0m         \u001b[0;31m### Run simulation\u001b[0m\u001b[0;34m\u001b[0m\u001b[0;34m\u001b[0m\u001b[0;34m\u001b[0m\u001b[0m\n\u001b[0;32m--> 333\u001b[0;31m         \u001b[0mrun_manager\u001b[0m\u001b[0;34m.\u001b[0m\u001b[0mbeamOn\u001b[0m\u001b[0;34m(\u001b[0m\u001b[0mevents\u001b[0m \u001b[0;34m=\u001b[0m \u001b[0mint\u001b[0m\u001b[0;34m(\u001b[0m\u001b[0mNsamples\u001b[0m\u001b[0;34m)\u001b[0m\u001b[0;34m,\u001b[0m \u001b[0mthreads\u001b[0m \u001b[0;34m=\u001b[0m \u001b[0;36m4\u001b[0m\u001b[0;34m)\u001b[0m\u001b[0;34m\u001b[0m\u001b[0;34m\u001b[0m\u001b[0m\n\u001b[0m\u001b[1;32m    334\u001b[0m \u001b[0;34m\u001b[0m\u001b[0m\n\u001b[1;32m    335\u001b[0m         \u001b[0;31m### Get inputs / outputs\u001b[0m\u001b[0;34m\u001b[0m\u001b[0;34m\u001b[0m\u001b[0;34m\u001b[0m\u001b[0m\n",
      "\u001b[0;31mKeyboardInterrupt\u001b[0m: "
     ]
    }
   ],
   "source": [
    "gpo.initialise(Ninitial=3)"
   ]
  },
  {
   "cell_type": "code",
   "execution_count": null,
   "id": "9a5af3fd",
   "metadata": {},
   "outputs": [],
   "source": [
    "#X_test = np.linspace(start=dims[0]['min'], stop=dims[0]['max'], num=1000).reshape(-1, 1)\n",
    "X_test = np.logspace(start=np.log10(dims[0]['min']), stop=np.log10(dims[0]['max']), num=1000).reshape(-1, 1)\n",
    "y_test,std_test = gpo.predict(X_test)\n",
    "plt.scatter(gpo.X,gpo.y)\n",
    "plt.plot(X_test,y_test)\n",
    "plt.fill_between(X_test.ravel(),y_test-2*std_test,y_test+2*std_test,alpha=0.5)\n",
    "plt.xscale('log')\n",
    "plt.xlabel(dims[0]['name'])\n",
    "plt.ylabel('log$(N_+/N_-)$')\n",
    "gpo.gaussian_process.kernel_"
   ]
  },
  {
   "cell_type": "code",
   "execution_count": null,
   "id": "41f10db8",
   "metadata": {},
   "outputs": [],
   "source": [
    "explore1 = -2\n",
    "explore2 = 0.01\n",
    "\n",
    "acq_test1 = gpo.acquisition_function(gpo.X_to_Xnorm(X_test),explore=explore1,acq_fn='EI')\n",
    "acq_test2 = gpo.acquisition_function(gpo.X_to_Xnorm(X_test),explore=explore2,acq_fn='EI')\n",
    "\n",
    "nxt1 = gpo.next_acquisition(Nacq=100,explore=explore1,acq_fn='EI')\n",
    "nxt2 = gpo.next_acquisition(Nacq=100,explore=explore2,acq_fn='EI')\n",
    "\n",
    "plt.subplot(2,1,1)\n",
    "plt.plot(X_test,acq_test1)\n",
    "plt.plot(gpo.Xnorm_to_X(nxt1),gpo.acquisition_function(nxt1,explore=explore1,acq_fn='EI'),'+')\n",
    "plt.xscale('log')\n",
    "plt.ylabel('EI explore = %0.2f'%explore1)\n",
    "plt.subplot(2,1,2)\n",
    "plt.plot(X_test,acq_test2)\n",
    "plt.plot(gpo.Xnorm_to_X(nxt2),gpo.acquisition_function(nxt2,explore=explore2,acq_fn='EI'),'+')\n",
    "plt.xscale('log')\n",
    "plt.ylabel('EI explore = %0.2f'%explore2)\n",
    "plt.tight_layout()\n",
    "\n",
    "print('Explore %0.2f, next=%0.2f'%(explore1,gpo.Xnorm_to_X(nxt1)))\n",
    "print('Explore %0.2f, next=%0.2f'%(explore2,gpo.Xnorm_to_X(nxt2)))"
   ]
  },
  {
   "cell_type": "markdown",
   "id": "2e9d4eac",
   "metadata": {},
   "source": [
    "N_new = 1\n",
    "gpo.optimise(N_new,Nacq=100,explore=0.01,acq_fn='EI')"
   ]
  },
  {
   "cell_type": "markdown",
   "id": "bb7b79bc",
   "metadata": {},
   "source": [
    "plt.scatter(gpo.X,gpo.y)\n",
    "y_test,std_test = gpo.predict(X_test)\n",
    "plt.plot(X_test,y_test)\n",
    "plt.fill_between(X_test.ravel(),y_test-2*std_test,y_test+2*std_test,alpha=0.5)\n",
    "plt.scatter(gpo.X[-N_new:,0],gpo.y[-N_new:])\n",
    "#plt.xscale('log')\n",
    "plt.xlabel(dims[0]['name'])\n",
    "plt.ylabel('log$(N_+/N_-)$')\n",
    "#plt.ylim([-8,-6])\n",
    "\n",
    "acq_test2 = gpo.acquisition_function(X_test,explore=0.01,acq_fn='EI')\n",
    "gpo.next_acquisition(Nacq=10,explore=0.01,acq_fn='EI')"
   ]
  },
  {
   "cell_type": "code",
   "execution_count": null,
   "id": "9142754a",
   "metadata": {},
   "outputs": [],
   "source": [
    "np.savetxt('l0_example%i_7.5GeV_2.txt'%(len(gpo.y)),np.transpose(np.vstack((gpo.X[:,0],gpo.y,gpo.yerr))),header='l0\\tlog(N+/N-)\\terror')\n",
    "np.savetxt('l0_model%i_7.5GeV_2.txt'%(len(gpo.y)),np.transpose(np.vstack((X_test[:,0],y_test,std_test))),header='l0\\tlog(N+/N-)\\terror')\n",
    "np.savetxt('l0_acq%i_7.5GeV_2.txt'%(len(gpo.y)),np.transpose(np.vstack((X_test[:,0],acq_test2))),header='l0\\tEI')\n",
    "\n",
    "N_new = 1\n",
    "for i in range(7):\n",
    "    gpo.optimise(N_new,Nacq=100,explore=0.01,acq_fn='EI',debug=True)\n",
    "    y_test,std_test = gpo.predict(X_test)\n",
    "    acq_test2 = gpo.acquisition_function(gpo.X_to_Xnorm(X_test),explore=0.01,acq_fn='EI')\n",
    "    nxt2 = gpo.next_acquisition(Nacq=100,explore=0.01,acq_fn='EI')\n",
    "    acq2 = gpo.acquisition_function(nxt2,explore=0.01,acq_fn='EI')\n",
    "    print('Predicted next point at l0=%0.2f, EI=%0.2f'%(gpo.Xnorm_to_X(nxt2),acq2))\n",
    "    \n",
    "    np.savetxt('l0_example%i_7.5GeV_2.txt'%(len(gpo.y)),np.transpose(np.vstack((gpo.X[:,0],gpo.y,gpo.yerr))),header='l0\\tlog(N+/N-)\\terror')\n",
    "    np.savetxt('l0_model%i_7.5GeV_2.txt'%(len(gpo.y)),np.transpose(np.vstack((X_test[:,0],y_test,std_test))),header='l0\\tlog(N+/N-)\\terror')\n",
    "    np.savetxt('l0_acq%i_7.5GeV_2.txt'%(len(gpo.y)),np.transpose(np.vstack((X_test[:,0],acq_test2))),header='l0\\tEI')"
   ]
  },
  {
   "cell_type": "markdown",
   "id": "763a5f70",
   "metadata": {},
   "source": [
    "np.savetxt('Esplit_example%i_scaling%0.1f_3.txt'%(len(gpo.y),gscale),np.transpose(np.vstack((gpo.X[:,0],gpo.y,gpo.yerr))),header='Esplit\\tlog(N+/N-)\\terror')\n",
    "np.savetxt('Esplit_model%i_scaling%0.1f_3.txt'%(len(gpo.y),gscale),np.transpose(np.vstack((X_test[:,0],y_test,std_test))),header='Esplit\\tlog(N+/N-)\\terror')\n",
    "np.savetxt('Esplit_acq%i_scaling%0.1f_3.txt'%(len(gpo.y),gscale),np.transpose(np.vstack((X_test[:,0],acq_test2))),header='Esplit\\tEI')\n",
    "\n",
    "N_new = 1\n",
    "for i in range(17):\n",
    "    gpo.optimise(N_new,Nacq=100,explore=0.1,acq_fn='EI')\n",
    "    y_test,std_test = gpo.predict(X_test)\n",
    "    acq_test2 = gpo.acquisition_function(X_test,explore=0.1,acq_fn='EI')\n",
    "    np.savetxt('Esplit_example%i_scaling%0.1f_3.txt'%(len(gpo.y),gscale),np.transpose(np.vstack((gpo.X[:,0],gpo.y,gpo.yerr))),header='Esplit\\tlog(N+/N-)\\terror')\n",
    "    np.savetxt('Esplit_model%i_scaling%0.1f_3.txt'%(len(gpo.y),gscale),np.transpose(np.vstack((X_test[:,0],y_test,std_test))),header='Esplit\\tlog(N+/N-)\\terror')\n",
    "    np.savetxt('Esplit_acq%i_scaling%0.1f_3.txt'%(len(gpo.y),gscale),np.transpose(np.vstack((X_test[:,0],acq_test2))),header='Esplit\\tEI')"
   ]
  },
  {
   "cell_type": "code",
   "execution_count": null,
   "id": "89f4ac5a",
   "metadata": {},
   "outputs": [],
   "source": [
    "gpo.gaussian_process.kernel = 1*RBF(length_scale_bounds=(1e-1, 1e1))\n",
    "gpo.gaussian_process.fit(gpo.Xnorm, gpo.y)\n",
    "\n",
    "plt.errorbar(gpo.X,gpo.y,gpo.yerr,linestyle='',marker='o')\n",
    "plt.plot(X_test,y_test)\n",
    "plt.fill_between(X_test.ravel(),y_test-2*std_test,y_test+2*std_test,alpha=0.5)\n",
    "plt.xscale('log')\n",
    "plt.xlabel(dims[0]['name'])\n",
    "plt.ylabel('log$(N_+/N_-)$')\n",
    "plt.ylim(-12,-4)\n",
    "gpo.gaussian_process.kernel_"
   ]
  },
  {
   "cell_type": "code",
   "execution_count": null,
   "id": "cb97411f",
   "metadata": {},
   "outputs": [],
   "source": [
    "acq_test2 = gpo.acquisition_function(gpo.X_to_Xnorm(X_test),explore=0.01,acq_fn='EI')\n",
    "nxt2 = gpo.next_acquisition(Nacq=100,explore=0.01,acq_fn='EI',debug=True)\n",
    "acq2 = gpo.acquisition_function(nxt2,explore=0.01,acq_fn='EI')\n",
    "plt.plot(X_test,acq_test2)\n",
    "plt.plot(gpo.Xnorm_to_X(nxt2),acq2,'+')\n",
    "plt.xscale('log')\n",
    "plt.xlabel(dims[0]['name'])\n",
    "plt.ylabel('log(E.I.)')\n",
    "print('Next acquisition: Xnorm =',nxt2[0], ', X =', gpo.Xnorm_to_X(nxt2)[0])"
   ]
  },
  {
   "cell_type": "code",
   "execution_count": null,
   "id": "dbf8b2aa",
   "metadata": {},
   "outputs": [],
   "source": []
  }
 ],
 "metadata": {
  "kernelspec": {
   "display_name": "Python 3 (ipykernel)",
   "language": "python",
   "name": "python3"
  },
  "language_info": {
   "codemirror_mode": {
    "name": "ipython",
    "version": 3
   },
   "file_extension": ".py",
   "mimetype": "text/x-python",
   "name": "python",
   "nbconvert_exporter": "python",
   "pygments_lexer": "ipython3",
   "version": "3.6.9"
  }
 },
 "nbformat": 4,
 "nbformat_minor": 5
}
