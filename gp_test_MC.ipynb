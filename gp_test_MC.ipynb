{
 "cells": [
  {
   "cell_type": "code",
   "execution_count": 48,
   "id": "adb242e5",
   "metadata": {},
   "outputs": [
    {
     "data": {
      "text/plain": [
       "<module 'gp_optimise' from '/home/cda523/Documents/Positrons/gp_optimise/gp_optimise.py'>"
      ]
     },
     "execution_count": 48,
     "metadata": {},
     "output_type": "execute_result"
    }
   ],
   "source": [
    "import numpy as np\n",
    "import matplotlib.pyplot as plt\n",
    "from QEDcascPy_positrons import sim_positrons_angle,sim_rr_angle\n",
    "from sklearn.gaussian_process.kernels import RBF,WhiteKernel\n",
    "import gp_optimise\n",
    "import importlib\n",
    "import time\n",
    "importlib.reload(gp_optimise)"
   ]
  },
  {
   "cell_type": "code",
   "execution_count": 49,
   "id": "385ea7a4",
   "metadata": {},
   "outputs": [],
   "source": [
    "# Sim parameters\n",
    "Npoints = 10\n",
    "Nsims = 1000\n",
    "up_scale = 1e3\n",
    "Nsamples = 1000"
   ]
  },
  {
   "cell_type": "code",
   "execution_count": 50,
   "id": "449477e2",
   "metadata": {},
   "outputs": [],
   "source": [
    "# Expt parameters\n",
    "Etot = 100 # J\n",
    "gamma0 = 1e9/0.511e6 # for 10 J\n",
    "E0 = 10 # 10 J\n",
    "gamma_spread = 0.1\n",
    "\n",
    "# Best compression\n",
    "duration0 = 25 # fs\n",
    "waist0 = 2*1.22*0.8 # microns\n",
    "\n",
    "# Random jitter\n",
    "t_std = 25e-15\n",
    "r_std = 40e-6 #10e-6\n",
    "\n",
    "# Electron energy scaling\n",
    "gscale = 1"
   ]
  },
  {
   "cell_type": "code",
   "execution_count": 51,
   "id": "0e4006d9",
   "metadata": {},
   "outputs": [],
   "source": [
    "# Set up the variables etc\n",
    "I0 = Etot/((duration0*1e-15)*(waist0*1e-6)**2) * (4*np.log(2)/np.pi)**1.5\n",
    "a0 = np.sqrt(I0/2.1378e22)\n",
    "\n",
    "z_offset = np.random.default_rng().normal(0, 0.5*t_std*3e8, Nsims)\n",
    "x_offset = np.random.default_rng().normal(0, r_std, Nsims)\n",
    "y_offset = np.random.default_rng().normal(0, r_std, Nsims) "
   ]
  },
  {
   "cell_type": "code",
   "execution_count": 52,
   "id": "595c6625",
   "metadata": {},
   "outputs": [],
   "source": [
    "# Define the MC functions to return positron number and rr rate\n",
    "# Keep the offsets outside the function so I can use the same consistent offsets throughout\n",
    "\n",
    "#dims = [{'name':'duration','type':'log-uniform','min':5,'max':100}]\n",
    "#dims = [{'name':'Esplit','type':'uniform','min':0,'max':1}]\n",
    "dims = [{'name':'l0','type':'log-uniform','min':0.001,'max':1}]   \n",
    "    \n",
    "def estimate_positrons(params): # params = [Energy split]\n",
    "    t0 = time.time()\n",
    "    positron = np.zeros((Nsims))\n",
    "    for i in range(Nsims):\n",
    "        #gamma = gamma0*((1-params[0])*Etot/10)**gscale\n",
    "        #positron[i] = sim_positrons_angle(a0*np.sqrt(params[0]), gamma, gamma_spread*gamma, angle=15, \n",
    "        #                    z_offset=z_offset[i], x_offset=x_offset[i], y_offset=y_offset[i],l0=0.0,\n",
    "        gamma = gamma0*((1-0.25)*Etot/E0)**gscale\n",
    "        positron[i] = sim_positrons_angle(a0*np.sqrt(0.25), gamma, gamma_spread*gamma, angle=15, \n",
    "                            z_offset=z_offset[i], x_offset=x_offset[i], y_offset=y_offset[i],l0=params[0],\n",
    "                            duration_fwhm = duration0*1e-15, waist_fwhm = waist0*1e-6,\n",
    "                            Nsamples=Nsamples, up_scale=up_scale, model=\"Quantum\")\n",
    "\n",
    "    mu = np.mean(positron)\n",
    "    sigma = np.std(positron)\n",
    "    if (not mu>0):\n",
    "        mu = 1.0/(Nsamples*up_scale)**2\n",
    "        sigma = 1.0/(Nsamples*up_scale)**1.5\n",
    "        \n",
    "    exponent = np.floor(np.log10(mu))\n",
    "    t1 = time.time()\n",
    "    print(\"Finished %0i sims in %0.2e s at %s=%0.3f, giving (%0.2f+-%0.2f)x10^%0i positrons per electron\" \n",
    "          % (Nsims,t1-t0,dims[0]['name'],params[0],mu/10**exponent,sigma/np.sqrt(Nsims)/10**exponent,exponent))\n",
    "    #logmu = np.log(mu**2/np.sqrt(mu**2+sigma**2))\n",
    "    logmu = np.log10(mu)\n",
    "    logsigma = np.sqrt(np.log(1+sigma**2/mu**2)/Nsims)/np.log(10)\n",
    "\n",
    "    return logmu,logsigma\n",
    "    \n",
    "def estimate_rr(params): # params = [Energy split]\n",
    "    t0 = time.time()\n",
    "    \n",
    "    gamma = gamma0*((1-params[0])*Etot/10)**gscale\n",
    "    rr = np.zeros(Nsims)\n",
    "    for i in range(Nsims):\n",
    "        rr[i] = sim_rr_angle(a0*np.sqrt(params[0]), gamma, gamma_spread*gamma, angle=15, \n",
    "                            z_offset=z_offset[i], x_offset=x_offset[i], y_offset=y_offset[i],\n",
    "                            duration_fwhm = duration0*1e-15, waist_fwhm = waist0*1e-6,\n",
    "                            Nsamples=Nsamples, up_scale=up_scale, model=\"Quantum\")\n",
    "        if(np.isnan(rr[i])):\n",
    "            rr[i] = 0\n",
    "        \n",
    "    mu = np.nanmean(rr*gamma*0.511e-3)\n",
    "    sigma = np.nanstd(rr*gamma*0.511e-3)/np.sqrt(Nsims)\n",
    "    \n",
    "    t1 = time.time()\n",
    "    print(\"Finished %0i sims in %0.2e s at %s=%0.2f, giving %0.3f+-%0.3f GeV in radiation per electron\" \n",
    "          % (Nsims,t1-t0,dims[0]['name'],params[0],mu,sigma))\n",
    "\n",
    "    return mu,sigma\n"
   ]
  },
  {
   "cell_type": "markdown",
   "id": "fe49efab",
   "metadata": {},
   "source": [
    "params = [0.25]\n",
    "\n",
    "positron = np.zeros((Nsims))\n",
    "t0 = time.time()\n",
    "for i in range(Nsims):\n",
    "    positron[i] = sim_positrons_angle(a0*np.sqrt(params[0]), gamma0*(1-params[0])**gscale, gamma_spread,angle=15, \n",
    "                            z_offset=z_offset[i], x_offset=x_offset[i], y_offset=y_offset[i],l0=0.1,\n",
    "                            duration_fwhm = duration0*1e-15, waist_fwhm = waist0*1e-6,\n",
    "                            Nsamples=Nsamples, up_scale=up_scale, model=\"Quantum\")\n",
    "    t1 = time.time()\n",
    "    exponent = np.floor(np.log10(positron[i]))\n",
    "    if positron[i]==0:\n",
    "        exponent=0\n",
    "    print(\"Finished %0i sims in %0.2e s at %s=%0.2f, giving %0.2fx10^%0i positrons per electron\"\n",
    "          % (i+1,t1-t0,dims[0]['name'],params[0],positron[i]/10**exponent,exponent))\n"
   ]
  },
  {
   "cell_type": "markdown",
   "id": "8d000714",
   "metadata": {},
   "source": [
    "positron0 = sim_positrons_angle(a0*np.sqrt(params[0]), gamma0*(1-params[0])**gscale, gamma_spread,angle=15, \n",
    "                            z_offset=0, x_offset=0, y_offset=0,l0=0.1,\n",
    "                            duration_fwhm = duration0*1e-15, waist_fwhm = waist0*1e-6,\n",
    "                            Nsamples=Nsamples, up_scale=up_scale, model=\"Quantum\")"
   ]
  },
  {
   "cell_type": "markdown",
   "id": "c899d069",
   "metadata": {},
   "source": [
    "print(positron0)\n",
    "print(np.mean(positron))\n",
    "print(np.std(positron))"
   ]
  },
  {
   "cell_type": "markdown",
   "id": "d4686e6d",
   "metadata": {},
   "source": [
    "#positron[positron==0] = 0.1*(Nsamples*up_scale)**-1\n",
    "mu = np.mean(positron)\n",
    "sigma = np.std(positron)\n",
    "posmean = np.log(mu**2/np.sqrt(mu**2+sigma**2))\n",
    "posstd = np.sqrt(np.log(1+sigma**2/mu**2))\n",
    "print('logmean =',posmean)\n",
    "print('logstd =',posstd)\n",
    "\n",
    "#npos,bins,patches = plt.hist(np.log(positron))\n",
    "ngrid = np.logspace(-7,-1,num=25)\n",
    "ngauss = Nsims/np.sqrt(2*np.pi*posstd**2)*np.exp(-0.5*((np.log(ngrid)-posmean)/posstd)**2)\n",
    "\n",
    "plt.rcParams.update({'font.size': 14})\n",
    "\n",
    "plt.subplot(4,3,4)\n",
    "p1 = plt.hist(x_offset*1e6)\n",
    "plt.xlabel('$\\Delta x$ ($\\mu$m)')\n",
    "plt.ylabel('Count')\n",
    "\n",
    "plt.subplot(4,3,5)\n",
    "p2 = plt.hist(y_offset*1e6)\n",
    "plt.xlabel('$\\Delta y$ ($\\mu$m)')\n",
    "\n",
    "plt.subplot(4,3,6)\n",
    "plt.hist(2*z_offset/3e8*1e15)\n",
    "plt.xlabel('$\\Delta t$ (fs)')\n",
    "\n",
    "plt.subplot(2,1,2)\n",
    "plt.hist(positron,bins=np.logspace(-7,-1,num=13),color='maroon')\n",
    "plt.plot(ngrid,ngauss)\n",
    "\n",
    "plt.xscale('log')\n",
    "plt.xlabel('$N_+/N_-$')\n",
    "plt.ylabel('Count')\n",
    "\n",
    "fig = plt.gcf()\n",
    "fig.set_figheight(6)\n",
    "fig.set_figwidth(4)\n",
    "plt.tight_layout()"
   ]
  },
  {
   "cell_type": "code",
   "execution_count": 53,
   "id": "48922d1d",
   "metadata": {},
   "outputs": [],
   "source": [
    "kernel = 1*RBF(length_scale_bounds=(1e-1, 1e1))# + WhiteKernel(noise_level_bounds=(1e-2, 1e0))\n",
    "gpo = gp_optimise.Gp_optimise(estimate_positrons,dims,kernel)"
   ]
  },
  {
   "cell_type": "code",
   "execution_count": 54,
   "id": "63cc91ee",
   "metadata": {},
   "outputs": [
    {
     "name": "stdout",
     "output_type": "stream",
     "text": [
      "Finished 1000 sims in 7.62e+02 s at l0=0.838, giving (1.80+-0.14)x10^-4 positrons per electron\n",
      "Finished 1000 sims in 7.47e+02 s at l0=0.049, giving (3.23+-1.00)x10^-4 positrons per electron\n",
      "Finished 1000 sims in 5.03e+02 s at l0=0.005, giving (6.93+-5.17)x10^-5 positrons per electron\n"
     ]
    },
    {
     "name": "stderr",
     "output_type": "stream",
     "text": [
      "/home/cda523/.local/lib/python3.6/site-packages/sklearn/gaussian_process/kernels.py:409: ConvergenceWarning: The optimal value found for dimension 0 of parameter k2__length_scale is close to the specified lower bound 0.1. Decreasing the bound and calling fit again may find a better value.\n",
      "  ConvergenceWarning)\n"
     ]
    }
   ],
   "source": [
    "gpo.initialise(Ninitial=3)"
   ]
  },
  {
   "cell_type": "code",
   "execution_count": 55,
   "id": "ec235911",
   "metadata": {},
   "outputs": [
    {
     "data": {
      "text/plain": [
       "1**2 * RBF(length_scale=0.1)"
      ]
     },
     "execution_count": 55,
     "metadata": {},
     "output_type": "execute_result"
    },
    {
     "data": {
      "image/png": "[encoded data removed]",
      "text/plain": [
       "<Figure size 288x288 with 1 Axes>"
      ]
     },
     "metadata": {
      "needs_background": "light"
     },
     "output_type": "display_data"
    }
   ],
   "source": [
    "gpo.mean_slices_plot(40)\n",
    "plt.ylabel('log$_{10}(N_+/N_-)$')\n",
    "#plt.ylabel('$E_\\gamma/N_e$ (GeV/electron)')\n",
    "gpo.gaussian_process.kernel_"
   ]
  },
  {
   "cell_type": "code",
   "execution_count": 56,
   "id": "41f10db8",
   "metadata": {},
   "outputs": [
    {
     "name": "stdout",
     "output_type": "stream",
     "text": [
      "Explore 1.00, next=0.10\n",
      "Explore 0.10, next=0.09\n"
     ]
    },
    {
     "data": {
      "image/png": "[encoded data removed]",
      "text/plain": [
       "<Figure size 432x288 with 2 Axes>"
      ]
     },
     "metadata": {
      "needs_background": "light"
     },
     "output_type": "display_data"
    }
   ],
   "source": [
    "Nacq = 10\n",
    "explore1 = 1\n",
    "explore2 = 0.1\n",
    "\n",
    "X_test = gpo.uniform_Xgrid(100)\n",
    "acq_test1 = gpo.acquisition_function(gpo.X_to_Xnorm(X_test),explore=explore1,acq_fn='EI')\n",
    "acq_test2 = gpo.acquisition_function(gpo.X_to_Xnorm(X_test),explore=explore2,acq_fn='EI')\n",
    "\n",
    "nxt1 = gpo.next_acquisition(Nacq=Nacq,explore=explore1,acq_fn='EI')\n",
    "nxt2 = gpo.next_acquisition(Nacq=Nacq,explore=explore2,acq_fn='EI')\n",
    "\n",
    "plt.subplot(2,1,1)\n",
    "plt.plot(X_test,acq_test1,'b')\n",
    "plt.plot(gpo.Xnorm_to_X(nxt1),gpo.acquisition_function(nxt1,explore=explore1,acq_fn='EI'),'b+')\n",
    "#plt.xscale('log')\n",
    "plt.ylabel('EI explore = %0.2f'%explore1,color='b')\n",
    "\n",
    "ax = plt.gca()\n",
    "ax2 = ax.twinx()\n",
    "ax2.plot(X_test,acq_test2,'r')\n",
    "ax2.plot(gpo.Xnorm_to_X(nxt2),gpo.acquisition_function(nxt2,explore=explore2,acq_fn='EI'),'r+')\n",
    "#plt.xscale('log')\n",
    "plt.ylabel('EI explore = %0.2f'%explore2,color='r')\n",
    "plt.tight_layout()\n",
    "\n",
    "print('Explore %0.2f, next=%0.2f'%(explore1,gpo.Xnorm_to_X(nxt1)))\n",
    "print('Explore %0.2f, next=%0.2f'%(explore2,gpo.Xnorm_to_X(nxt2)))"
   ]
  },
  {
   "cell_type": "markdown",
   "id": "2e9d4eac",
   "metadata": {},
   "source": [
    "N_new = 1\n",
    "gpo.optimise(N_new,Nacq=100,explore=0.01,acq_fn='EI')"
   ]
  },
  {
   "cell_type": "markdown",
   "id": "bb7b79bc",
   "metadata": {},
   "source": [
    "plt.scatter(gpo.X,gpo.y)\n",
    "y_test,std_test = gpo.predict(X_test)\n",
    "plt.plot(X_test,y_test)\n",
    "plt.fill_between(X_test.ravel(),y_test-2*std_test,y_test+2*std_test,alpha=0.5)\n",
    "plt.scatter(gpo.X[-N_new:,0],gpo.y[-N_new:])\n",
    "#plt.xscale('log')\n",
    "plt.xlabel(dims[0]['name'])\n",
    "plt.ylabel('log$(N_+/N_-)$')\n",
    "#plt.ylim([-8,-6])\n",
    "\n",
    "acq_test2 = gpo.acquisition_function(X_test,explore=0.01,acq_fn='EI')\n",
    "gpo.next_acquisition(Nacq=10,explore=0.01,acq_fn='EI')"
   ]
  },
  {
   "cell_type": "code",
   "execution_count": 57,
   "id": "9142754a",
   "metadata": {},
   "outputs": [
    {
     "name": "stdout",
     "output_type": "stream",
     "text": [
      "Predicted next point at l0=0.09, EI=0.05\n",
      "DEBUG: Finding next acquisition point using Nacq=10, explore=0.10, acq_fn=EI\n",
      "DEBUG: Gridded acquisition function has maximum at  [0.66666667] , ( [0.1]  in real space),  EI = 0.04683780396094007\n",
      "DEBUG: Starting from  [0.24247187] ,ending at  [0.24247187]  with  [-7.17249624e-81]\n",
      "DEBUG: Starting from  [0.44351447] ,ending at  [0.48939122]  with  [-0.04279494]\n",
      "DEBUG: Replacing previous minimum:  [-0.04279494] < [-7.17249624e-81]\n",
      "DEBUG: Starting from  [0.54333602] ,ending at  [0.48939123]  with  [-0.04279494]\n",
      "DEBUG: Replacing previous minimum:  [-0.04279494] < [-0.04279494]\n",
      "DEBUG: Starting from  [0.76406759] ,ending at  [0.64903861]  with  [-0.04798027]\n",
      "DEBUG: Replacing previous minimum:  [-0.04798027] < [-0.04279494]\n",
      "DEBUG: Starting from  [0.34744659] ,ending at  [0.48939127]  with  [-0.04279494]\n",
      "DEBUG: Starting from  [0.04706785] ,ending at  [0.]  with  [-0.01851525]\n",
      "DEBUG: Starting from  [0.92242853] ,ending at  [0.64903864]  with  [-0.04798027]\n",
      "DEBUG: Replacing previous minimum:  [-0.04798027] < [-0.04798027]\n",
      "DEBUG: Starting from  [0.19676286] ,ending at  [0.19676286]  with  [-6.10949518e-15]\n",
      "DEBUG: Starting from  [0.63918515] ,ending at  [0.64903864]  with  [-0.04798027]\n",
      "DEBUG: Starting from  [0.83049959] ,ending at  [0.48939097]  with  [-0.04279494]\n",
      "DEBUG: Next acquisition at:  [[0.64903864]] , EI = [0.04798027] \n",
      "\n",
      "Finished 1000 sims in 8.35e+02 s at l0=0.089, giving (3.63+-0.73)x10^-4 positrons per electron\n",
      "\n",
      "DEBUG: Calling function at Xnorm = [[0.64903864]] , X = [[0.08853519]] , giving y =  -3.4400730365800927  +-  0.026532821400096673 \n",
      "\n",
      "Predicted next point at l0=0.10, EI=0.00\n",
      "DEBUG: Finding next acquisition point using Nacq=10, explore=0.10, acq_fn=EI\n",
      "DEBUG: Gridded acquisition function has maximum at  [0.66666667] , ( [0.1]  in real space),  EI = 0.0036100777929198545\n",
      "DEBUG: Starting from  [0.78357706] ,ending at  [0.66401785]  with  [-0.00361521]\n",
      "DEBUG: Replacing previous minimum:  [-0.00361521] < [-0.00114326]\n",
      "DEBUG: Starting from  [0.22168854] ,ending at  [0.22168854]  with  [-0.]\n",
      "DEBUG: Starting from  [0.38260557] ,ending at  [0.38260557]  with  [-1.0863275e-12]\n",
      "DEBUG: Starting from  [0.11297719] ,ending at  [0.11297719]  with  [-2.69413149e-10]\n",
      "DEBUG: Starting from  [0.65797871] ,ending at  [0.66401735]  with  [-0.00361521]\n",
      "DEBUG: Replacing previous minimum:  [-0.00361521] < [-0.00361521]\n",
      "DEBUG: Starting from  [0.99959312] ,ending at  [0.99959312]  with  [-2.91178763e-39]\n",
      "DEBUG: Starting from  [0.09523839] ,ending at  [0.09523839]  with  [-3.057523e-08]\n",
      "DEBUG: Starting from  [0.81343014] ,ending at  [0.66402182]  with  [-0.00361521]\n",
      "DEBUG: Starting from  [0.5203233] ,ending at  [0.5203233]  with  [-1.1696709e-12]\n",
      "DEBUG: Starting from  [0.46211452] ,ending at  [0.46211452]  with  [-2.38803842e-10]\n",
      "DEBUG: Next acquisition at:  [[0.66401735]] , EI = [0.00361521] \n",
      "\n",
      "Finished 1000 sims in 8.59e+02 s at l0=0.098, giving (3.79+-0.70)x10^-4 positrons per electron\n",
      "\n",
      "DEBUG: Calling function at Xnorm = [[0.66401735]] , X = [[0.09818656]] , giving y =  -3.4218297144525063  +-  0.025878790763204863 \n",
      "\n",
      "Predicted next point at l0=0.12, EI=0.00\n",
      "DEBUG: Finding next acquisition point using Nacq=10, explore=0.10, acq_fn=EI\n",
      "DEBUG: Gridded acquisition function has maximum at  [0.66666667] , ( [0.1]  in real space),  EI = 0.00039558619938013357\n",
      "DEBUG: Starting from  [0.51066197] ,ending at  [0.51066197]  with  [-2.49597946e-29]\n",
      "DEBUG: Starting from  [0.83378893] ,ending at  [0.83378893]  with  [-7.52150888e-09]\n",
      "DEBUG: Replacing previous minimum:  [-7.52150888e-09] < [-2.49597946e-29]\n",
      "DEBUG: Starting from  [0.08824576] ,ending at  [0.08824576]  with  [-1.14061856e-18]\n",
      "DEBUG: Starting from  [0.2085543] ,ending at  [0.2085543]  with  [-0.]\n",
      "DEBUG: Starting from  [0.67627095] ,ending at  [0.6903541]  with  [-0.00075526]\n",
      "DEBUG: Replacing previous minimum:  [-0.00075526] < [-7.52150888e-09]\n",
      "DEBUG: Starting from  [0.7258654] ,ending at  [0.69035354]  with  [-0.00075526]\n",
      "DEBUG: Replacing previous minimum:  [-0.00075526] < [-0.00075526]\n",
      "DEBUG: Starting from  [0.96088089] ,ending at  [0.96088089]  with  [-0.]\n",
      "DEBUG: Starting from  [0.49446242] ,ending at  [0.49446242]  with  [-2.39267611e-30]\n",
      "DEBUG: Starting from  [0.19918892] ,ending at  [0.19918892]  with  [-0.]\n",
      "DEBUG: Starting from  [0.35625469] ,ending at  [0.35625469]  with  [-1.73415224e-55]\n",
      "DEBUG: Next acquisition at:  [[0.69035354]] , EI = [0.00075526] \n",
      "\n",
      "Finished 1000 sims in 9.15e+02 s at l0=0.118, giving (3.92+-0.62)x10^-4 positrons per electron\n",
      "\n",
      "DEBUG: Calling function at Xnorm = [[0.69035354]] , X = [[0.11777704]] , giving y =  -3.40668845216307  +-  0.024743736393551943 \n",
      "\n",
      "Predicted next point at l0=0.20, EI=0.03\n",
      "DEBUG: Finding next acquisition point using Nacq=10, explore=0.10, acq_fn=EI\n",
      "DEBUG: Gridded acquisition function has maximum at  [0.77777778] , ( [0.21544347]  in real space),  EI = 0.02528986102619156\n",
      "DEBUG: Starting from  [0.79987726] ,ending at  [0.76496377]  with  [-0.02592363]\n",
      "DEBUG: Replacing previous minimum:  [-0.02592363] < [-0.0216513]\n",
      "DEBUG: Starting from  [0.44479343] ,ending at  [0.43362397]  with  [-0.00053548]\n",
      "DEBUG: Starting from  [0.91405374] ,ending at  [0.76496393]  with  [-0.02592363]\n",
      "DEBUG: Replacing previous minimum:  [-0.02592363] < [-0.02592363]\n",
      "DEBUG: Starting from  [0.8066606] ,ending at  [0.76496395]  with  [-0.02592363]\n",
      "DEBUG: Replacing previous minimum:  [-0.02592363] < [-0.02592363]\n",
      "DEBUG: Starting from  [0.12135362] ,ending at  [0.]  with  [-0.01257677]\n",
      "DEBUG: Starting from  [0.62823141] ,ending at  [0.62823141]  with  [-8.40593099e-12]\n",
      "DEBUG: Starting from  [0.3219599] ,ending at  [0.32198948]  with  [-1.21156442e-07]\n",
      "DEBUG: Starting from  [0.0690827] ,ending at  [0.]  with  [-0.01257677]\n",
      "DEBUG: Starting from  [0.26843869] ,ending at  [0.26843869]  with  [-1.98767018e-29]\n",
      "DEBUG: Starting from  [0.54906305] ,ending at  [0.54906305]  with  [-1.87778359e-18]\n",
      "DEBUG: Next acquisition at:  [[0.76496395]] , EI = [0.02592363] \n",
      "\n",
      "Finished 1000 sims in 9.37e+02 s at l0=0.197, giving (3.52+-0.40)x10^-4 positrons per electron\n",
      "\n",
      "DEBUG: Calling function at Xnorm = [[0.76496395]] , X = [[0.19719316]] , giving y =  -3.453403053104274  +-  0.022338781050478554 \n",
      "\n",
      "Predicted next point at l0=0.09, EI=0.00\n",
      "DEBUG: Finding next acquisition point using Nacq=10, explore=0.10, acq_fn=EI\n",
      "DEBUG: Gridded acquisition function has maximum at  [0.66666667] , ( [0.1]  in real space),  EI = 1.1379758997773798e-08\n",
      "DEBUG: Starting from  [0.17092369] ,ending at  [0.17092369]  with  [-1.01052483e-224]\n",
      "DEBUG: Starting from  [0.40401343] ,ending at  [0.40401343]  with  [-5.21372733e-83]\n",
      "DEBUG: Replacing previous minimum:  [-5.21372733e-83] < [-1.01052483e-224]\n",
      "DEBUG: Starting from  [0.21882816] ,ending at  [0.21882816]  with  [-0.]\n",
      "DEBUG: Starting from  [0.38760197] ,ending at  [0.38760197]  with  [-5.11597219e-93]\n",
      "DEBUG: Starting from  [0.05003993] ,ending at  [0.05003993]  with  [-4.28653272e-22]\n",
      "DEBUG: Replacing previous minimum:  [-4.28653272e-22] < [-5.21372733e-83]\n",
      "DEBUG: Starting from  [0.75323895] ,ending at  [0.75323895]  with  [-3.54696097e-18]\n",
      "DEBUG: Replacing previous minimum:  [-3.54696097e-18] < [-4.28653272e-22]\n",
      "DEBUG: Starting from  [0.52227752] ,ending at  [0.52227752]  with  [-6.1467542e-52]\n",
      "DEBUG: Starting from  [0.95873318] ,ending at  [0.95873318]  with  [-0.]\n",
      "DEBUG: Starting from  [0.61221409] ,ending at  [0.61221409]  with  [-3.5375525e-24]\n",
      "DEBUG: Starting from  [0.8284221] ,ending at  [0.8284221]  with  [-1.77663225e-49]\n",
      "DEBUG: Next acquisition at:  [[0.75323895]] , EI = [3.54696097e-18] \n",
      "\n",
      "Finished 1000 sims in 9.46e+02 s at l0=0.182, giving (3.62+-0.44)x10^-4 positrons per electron\n",
      "\n",
      "DEBUG: Calling function at Xnorm = [[0.75323895]] , X = [[0.18185148]] , giving y =  -3.4418340365401887  +-  0.02275896326710348 \n",
      "\n",
      "Predicted next point at l0=0.00, EI=0.02\n",
      "DEBUG: Finding next acquisition point using Nacq=10, explore=0.10, acq_fn=EI\n",
      "DEBUG: Gridded acquisition function has maximum at  [0.] , ( [0.001]  in real space),  EI = 0.02231392749102503\n",
      "DEBUG: Starting from  [0.88427388] ,ending at  [0.88427388]  with  [-1.59942069e-09]\n",
      "DEBUG: Starting from  [0.28191308] ,ending at  [0.28191308]  with  [-8.61765804e-14]\n",
      "DEBUG: Starting from  [0.32244046] ,ending at  [0.43516862]  with  [-0.00489741]\n",
      "DEBUG: Replacing previous minimum:  [-0.00489741] < [-1.59942069e-09]\n"
     ]
    },
    {
     "name": "stdout",
     "output_type": "stream",
     "text": [
      "DEBUG: Starting from  [0.62736674] ,ending at  [0.62736674]  with  [-9.84946207e-13]\n",
      "DEBUG: Starting from  [0.05096708] ,ending at  [0.]  with  [-0.02231393]\n",
      "DEBUG: Replacing previous minimum:  [-0.02231393] < [-0.00489741]\n",
      "DEBUG: Starting from  [0.56858401] ,ending at  [0.56858401]  with  [-9.97150161e-38]\n",
      "DEBUG: Starting from  [0.19400533] ,ending at  [0.19400533]  with  [-3.48987247e-26]\n",
      "DEBUG: Starting from  [0.71405085] ,ending at  [0.70565203]  with  [-0.00184836]\n",
      "DEBUG: Starting from  [0.49424853] ,ending at  [0.43516861]  with  [-0.00489741]\n",
      "DEBUG: Starting from  [0.9570634] ,ending at  [0.9570634]  with  [-1.99476065e-60]\n",
      "DEBUG: Next acquisition at:  [[0.]] , EI = [0.02231393] \n",
      "\n",
      "Finished 1000 sims in 4.77e+02 s at l0=0.001, giving (4.19+-3.17)x10^-5 positrons per electron\n",
      "\n",
      "DEBUG: Calling function at Xnorm = [[0.]] , X = [[0.001]] , giving y =  -4.377589086226191  +-  0.03461432339437291 \n",
      "\n",
      "Predicted next point at l0=0.11, EI=0.00\n",
      "DEBUG: Finding next acquisition point using Nacq=10, explore=0.10, acq_fn=EI\n",
      "DEBUG: Gridded acquisition function has maximum at  [0.66666667] , ( [0.1]  in real space),  EI = 3.957938690580787e-07\n",
      "DEBUG: Starting from  [0.99942408] ,ending at  [0.99942408]  with  [-0.]\n",
      "DEBUG: Starting from  [0.21353593] ,ending at  [0.21353593]  with  [-0.]\n",
      "DEBUG: Starting from  [0.3299467] ,ending at  [0.3299467]  with  [-0.]\n",
      "DEBUG: Starting from  [0.64943625] ,ending at  [0.64943625]  with  [-1.43257935e-08]\n",
      "DEBUG: Replacing previous minimum:  [-1.43257935e-08] < [-0.]\n",
      "DEBUG: Starting from  [0.01608482] ,ending at  [0.01608482]  with  [-0.]\n",
      "DEBUG: Starting from  [0.87654096] ,ending at  [0.87654096]  with  [-1.01057789e-105]\n",
      "DEBUG: Starting from  [0.5756245] ,ending at  [0.5756245]  with  [-7.47075141e-28]\n",
      "DEBUG: Starting from  [0.70403708] ,ending at  [0.70401042]  with  [-1.43553905e-07]\n",
      "DEBUG: Replacing previous minimum:  [-1.43553905e-07] < [-1.43257935e-08]\n",
      "DEBUG: Starting from  [0.42300989] ,ending at  [0.42300989]  with  [-1.06442284e-130]\n",
      "DEBUG: Starting from  [0.1929019] ,ending at  [0.1929019]  with  [-0.]\n",
      "DEBUG: Next acquisition at:  [[0.70401042]] , EI = [1.43553905e-07] \n",
      "\n",
      "Finished 1000 sims in 8.88e+02 s at l0=0.129, giving (3.81+-0.54)x10^-4 positrons per electron\n",
      "\n",
      "DEBUG: Calling function at Xnorm = [[0.70401042]] , X = [[0.1294289]] , giving y =  -3.4192848130036  +-  0.023960731544440766 \n",
      "\n",
      "Predicted next point at l0=0.08, EI=0.00\n"
     ]
    }
   ],
   "source": [
    "var = 'l0'\n",
    "label = '_scaling1_jitter40um'\n",
    "\n",
    "y_test,std_test = gpo.predict(X_test)\n",
    "acq_test2 = gpo.acquisition_function(gpo.X_to_Xnorm(X_test),explore=explore2,acq_fn='EI')\n",
    "nxt2 = gpo.next_acquisition(Nacq=10,explore=explore2,acq_fn='EI')\n",
    "acq2 = gpo.acquisition_function(nxt2,explore=explore2,acq_fn='EI')\n",
    "print('Predicted next point at %s=%0.2f, EI=%0.2f' % (var,gpo.Xnorm_to_X(nxt2),acq2))\n",
    "    \n",
    "np.savetxt('%s_example%i_%s.txt'%(var,len(gpo.y),label),np.transpose(np.vstack((gpo.X[:,0],gpo.y,gpo.yerr))),header=' %s\\t log(N+/N-)\\t error' % (var))\n",
    "np.savetxt('%s_model%i_%s.txt'%(var,len(gpo.y),label),np.transpose(np.vstack((X_test[:,0],y_test,std_test))),header=' %s\\t log(N+/N-)\\t error' % (var))\n",
    "np.savetxt('%s_acq%i_%s.txt'%(var,len(gpo.y),label),np.transpose(np.vstack((X_test[:,0],acq_test2))),header=' %s\\t EI' % (var))\n",
    "\n",
    "N_new = 1\n",
    "for i in range(Npoints-len(gpo.y)):\n",
    "    gpo.optimise(N_new,Nacq=10,explore=explore2,acq_fn='EI',debug=True)\n",
    "    y_test,std_test = gpo.predict(X_test)\n",
    "    acq_test2 = gpo.acquisition_function(gpo.X_to_Xnorm(X_test),explore=explore2,acq_fn='EI')\n",
    "    nxt2 = gpo.next_acquisition(Nacq=10,explore=explore2,acq_fn='EI')\n",
    "    acq2 = gpo.acquisition_function(nxt2,explore=explore2,acq_fn='EI')\n",
    "    print('Predicted next point at %s=%0.2f, EI=%0.2f' % (var,gpo.Xnorm_to_X(nxt2),acq2))\n",
    "    \n",
    "    np.savetxt('%s_example%i_%s.txt'%(var,len(gpo.y),label),np.transpose(np.vstack((gpo.X[:,0],gpo.y,gpo.yerr))),header=' %s\\t log(N+/N-)\\t error' % (var))\n",
    "    np.savetxt('%s_model%i_%s.txt'%(var,len(gpo.y),label),np.transpose(np.vstack((X_test[:,0],y_test,std_test))),header=' %s\\t log(N+/N-)\\t error' % (var))\n",
    "    np.savetxt('%s_acq%i_%s.txt'%(var,len(gpo.y),label),np.transpose(np.vstack((X_test[:,0],acq_test2))),header=' %s\\t EI' % (var))"
   ]
  },
  {
   "cell_type": "markdown",
   "id": "b8f693b0",
   "metadata": {},
   "source": [
    "np.savetxt('l0_example%i_7.5GeV_2.txt'%(len(gpo.y)),np.transpose(np.vstack((gpo.X[:,0],gpo.y,gpo.yerr))),header='l0\\tlog(N+/N-)\\terror')\n",
    "np.savetxt('l0_model%i_7.5GeV_2.txt'%(len(gpo.y)),np.transpose(np.vstack((X_test[:,0],y_test,std_test))),header='l0\\tlog(N+/N-)\\terror')\n",
    "np.savetxt('l0_acq%i_7.5GeV_2.txt'%(len(gpo.y)),np.transpose(np.vstack((X_test[:,0],acq_test2))),header='l0\\tEI')\n",
    "\n",
    "N_new = 1\n",
    "for i in range(7):\n",
    "    gpo.optimise(N_new,Nacq=100,explore=0.01,acq_fn='EI',debug=True)\n",
    "    y_test,std_test = gpo.predict(X_test)\n",
    "    acq_test2 = gpo.acquisition_function(gpo.X_to_Xnorm(X_test),explore=0.01,acq_fn='EI')\n",
    "    nxt2 = gpo.next_acquisition(Nacq=100,explore=0.01,acq_fn='EI')\n",
    "    acq2 = gpo.acquisition_function(nxt2,explore=0.01,acq_fn='EI')\n",
    "    print('Predicted next point at l0=%0.2f, EI=%0.2f'%(gpo.Xnorm_to_X(nxt2),acq2))\n",
    "    \n",
    "    np.savetxt('l0_example%i_7.5GeV_2.txt'%(len(gpo.y)),np.transpose(np.vstack((gpo.X[:,0],gpo.y,gpo.yerr))),header='l0\\tlog(N+/N-)\\terror')\n",
    "    np.savetxt('l0_model%i_7.5GeV_2.txt'%(len(gpo.y)),np.transpose(np.vstack((X_test[:,0],y_test,std_test))),header='l0\\tlog(N+/N-)\\terror')\n",
    "    np.savetxt('l0_acq%i_7.5GeV_2.txt'%(len(gpo.y)),np.transpose(np.vstack((X_test[:,0],acq_test2))),header='l0\\tEI')"
   ]
  },
  {
   "cell_type": "markdown",
   "id": "763a5f70",
   "metadata": {},
   "source": [
    "np.savetxt('Esplit_example%i_scaling%0.1f_3.txt'%(len(gpo.y),gscale),np.transpose(np.vstack((gpo.X[:,0],gpo.y,gpo.yerr))),header='Esplit\\tlog(N+/N-)\\terror')\n",
    "np.savetxt('Esplit_model%i_scaling%0.1f_3.txt'%(len(gpo.y),gscale),np.transpose(np.vstack((X_test[:,0],y_test,std_test))),header='Esplit\\tlog(N+/N-)\\terror')\n",
    "np.savetxt('Esplit_acq%i_scaling%0.1f_3.txt'%(len(gpo.y),gscale),np.transpose(np.vstack((X_test[:,0],acq_test2))),header='Esplit\\tEI')\n",
    "\n",
    "N_new = 1\n",
    "for i in range(17):\n",
    "    gpo.optimise(N_new,Nacq=100,explore=0.1,acq_fn='EI')\n",
    "    y_test,std_test = gpo.predict(X_test)\n",
    "    acq_test2 = gpo.acquisition_function(X_test,explore=0.1,acq_fn='EI')\n",
    "    np.savetxt('Esplit_example%i_scaling%0.1f_3.txt'%(len(gpo.y),gscale),np.transpose(np.vstack((gpo.X[:,0],gpo.y,gpo.yerr))),header='Esplit\\tlog(N+/N-)\\terror')\n",
    "    np.savetxt('Esplit_model%i_scaling%0.1f_3.txt'%(len(gpo.y),gscale),np.transpose(np.vstack((X_test[:,0],y_test,std_test))),header='Esplit\\tlog(N+/N-)\\terror')\n",
    "    np.savetxt('Esplit_acq%i_scaling%0.1f_3.txt'%(len(gpo.y),gscale),np.transpose(np.vstack((X_test[:,0],acq_test2))),header='Esplit\\tEI')"
   ]
  },
  {
   "cell_type": "code",
   "execution_count": 58,
   "id": "89f4ac5a",
   "metadata": {},
   "outputs": [
    {
     "data": {
      "text/plain": [
       "1.56**2 * RBF(length_scale=0.41)"
      ]
     },
     "execution_count": 58,
     "metadata": {},
     "output_type": "execute_result"
    },
    {
     "data": {
      "image/png": "[encoded data removed]",
      "text/plain": [
       "<Figure size 288x288 with 1 Axes>"
      ]
     },
     "metadata": {
      "needs_background": "light"
     },
     "output_type": "display_data"
    }
   ],
   "source": [
    "gpo.mean_slices_plot(40)\n",
    "plt.ylabel('log$_{10}(N_+/N_-)$')\n",
    "#plt.ylabel('Power radiated (GeV/electron)')\n",
    "gpo.gaussian_process.kernel_"
   ]
  },
  {
   "cell_type": "code",
   "execution_count": 59,
   "id": "cb97411f",
   "metadata": {},
   "outputs": [
    {
     "name": "stdout",
     "output_type": "stream",
     "text": [
      "Next acquisition: Xnorm = [0.68078664] , X = [0.11024526]\n"
     ]
    },
    {
     "data": {
      "image/png": "[encoded data removed]",
      "text/plain": [
       "<Figure size 432x288 with 1 Axes>"
      ]
     },
     "metadata": {
      "needs_background": "light"
     },
     "output_type": "display_data"
    }
   ],
   "source": [
    "acq_test2 = gpo.acquisition_function(gpo.X_to_Xnorm(X_test),explore=explore1,acq_fn='EI')\n",
    "nxt2 = gpo.next_acquisition(Nacq=100,explore=explore1,acq_fn='EI')\n",
    "acq2 = gpo.acquisition_function(nxt2,explore=explore1,acq_fn='EI')\n",
    "plt.plot(X_test,acq_test2)\n",
    "plt.plot(gpo.Xnorm_to_X(nxt2),acq2,'+')\n",
    "#plt.xscale('log')\n",
    "plt.xlabel(dims[0]['name'])\n",
    "plt.ylabel('log(E.I.)')\n",
    "print('Next acquisition: Xnorm =',nxt2[0], ', X =', gpo.Xnorm_to_X(nxt2)[0])"
   ]
  },
  {
   "cell_type": "code",
   "execution_count": null,
   "id": "bfccff27",
   "metadata": {},
   "outputs": [],
   "source": []
  }
 ],
 "metadata": {
  "kernelspec": {
   "display_name": "Python 3 (ipykernel)",
   "language": "python",
   "name": "python3"
  },
  "language_info": {
   "codemirror_mode": {
    "name": "ipython",
    "version": 3
   },
   "file_extension": ".py",
   "mimetype": "text/x-python",
   "name": "python",
   "nbconvert_exporter": "python",
   "pygments_lexer": "ipython3",
   "version": "3.6.9"
  }
 },
 "nbformat": 4,
 "nbformat_minor": 5
}
